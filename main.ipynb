{
 "cells": [
  {
   "cell_type": "code",
   "execution_count": 113,
   "metadata": {},
   "outputs": [],
   "source": [
    "# Inspired by: https://towardsdatascience.com/make-a-simple-nba-shot-chart-with-python-e5d70db45d0d\n",
    "\n",
    "from nba_api.stats.endpoints import shotchartdetail, commonteamroster\n",
    "from nba_api.stats.static import teams\n",
    "import pandas as pd\n",
    "import json\n",
    "import matplotlib as mpl\n",
    "import matplotlib.pyplot as plt"
   ]
  },
  {
   "cell_type": "code",
   "execution_count": 114,
   "metadata": {
    "scrolled": true
   },
   "outputs": [
    {
     "name": "stdout",
     "output_type": "stream",
     "text": [
      "['ATL', 'BOS', 'CLE', 'NOP', 'CHI', 'DAL', 'DEN', 'GSW', 'HOU', 'LAC', 'LAL', 'MIA', 'MIL', 'MIN', 'BKN', 'NYK', 'ORL', 'IND', 'PHI', 'PHX', 'POR', 'SAC', 'SAS', 'OKC', 'TOR', 'UTA', 'MEM', 'WAS', 'DET', 'CHA']\n"
     ]
    }
   ],
   "source": [
    "teams_list = teams.get_teams()\n",
    "teams_dict = dict([(x['abbreviation'], None) for x in teams_list])\n",
    "print([x['abbreviation'] for x in teams_list])"
   ]
  },
  {
   "cell_type": "code",
   "execution_count": 115,
   "metadata": {},
   "outputs": [
    {
     "name": "stdout",
     "output_type": "stream",
     "text": [
      "Type the season: 2021-22\n"
     ]
    }
   ],
   "source": [
    "season = input('Type the season: ')"
   ]
  },
  {
   "cell_type": "code",
   "execution_count": 116,
   "metadata": {},
   "outputs": [],
   "source": [
    "def get_team_id(abbreviation):\n",
    "    results = [x['id'] for x in teams_list if x['abbreviation'] == abbreviation]\n",
    "    if len(results) > 0:\n",
    "        return results[0]\n",
    "    return None\n",
    "\n",
    "def get_team_roster(team_abbr):\n",
    "    team_id = get_team_id(team_abbr)\n",
    "    roster = commonteamroster.CommonTeamRoster(season=season, team_id=team_id)\n",
    "    roster_loaded = json.loads(roster.get_json())\n",
    "    headers = roster_loaded['resultSets'][0]['headers']\n",
    "    rows = roster_loaded['resultSets'][0]['rowSet']\n",
    "    roster_df = pd.DataFrame(rows, columns = headers)\n",
    "    teams_dict[team_abbr] = roster_df\n",
    "    print(headers)\n",
    "    \n",
    "\n",
    "def get_player_id(team_abbr, name = None):\n",
    "    if teams_dict[team_abbr] is None:\n",
    "        get_team_roster(team_abbr)\n",
    "    roster_df = teams_dict[team_abbr]\n",
    "    player_data = roster_df.loc[roster_df['PLAYER'] == name].iloc[0]\n",
    "    return player_data['PLAYER_ID']"
   ]
  },
  {
   "cell_type": "code",
   "execution_count": 117,
   "metadata": {},
   "outputs": [
    {
     "name": "stdout",
     "output_type": "stream",
     "text": [
      "Type the abbreviation of the player's team: PHI\n"
     ]
    }
   ],
   "source": [
    "team_abbr = input(\"Type the abbreviation of the player's team: \")"
   ]
  },
  {
   "cell_type": "code",
   "execution_count": 118,
   "metadata": {
    "scrolled": true
   },
   "outputs": [
    {
     "name": "stdout",
     "output_type": "stream",
     "text": [
      "Type the name of the player whose shots you want to see: Joel Embiid\n"
     ]
    }
   ],
   "source": [
    "player_name = input('Type the name of the player whose shots you want to see: ')"
   ]
  },
  {
   "cell_type": "code",
   "execution_count": 119,
   "metadata": {},
   "outputs": [
    {
     "name": "stdout",
     "output_type": "stream",
     "text": [
      "['TeamID', 'SEASON', 'LeagueID', 'PLAYER', 'NICKNAME', 'PLAYER_SLUG', 'NUM', 'POSITION', 'HEIGHT', 'WEIGHT', 'BIRTH_DATE', 'AGE', 'EXP', 'SCHOOL', 'PLAYER_ID']\n"
     ]
    }
   ],
   "source": [
    "shot_json = shotchartdetail.ShotChartDetail(\n",
    "            team_id = get_team_id(team_abbr),\n",
    "            player_id = get_player_id(team_abbr, player_name),\n",
    "            context_measure_simple = 'PTS',\n",
    "            season_nullable = season,\n",
    "            season_type_all_star = 'Regular Season')"
   ]
  },
  {
   "cell_type": "code",
   "execution_count": 120,
   "metadata": {},
   "outputs": [],
   "source": [
    "shot_json_loaded = json.loads(shot_json.get_json())"
   ]
  },
  {
   "cell_type": "code",
   "execution_count": 121,
   "metadata": {},
   "outputs": [
    {
     "name": "stdout",
     "output_type": "stream",
     "text": [
      "['GRID_TYPE', 'GAME_ID', 'GAME_EVENT_ID', 'PLAYER_ID', 'PLAYER_NAME', 'TEAM_ID', 'TEAM_NAME', 'PERIOD', 'MINUTES_REMAINING', 'SECONDS_REMAINING', 'EVENT_TYPE', 'ACTION_TYPE', 'SHOT_TYPE', 'SHOT_ZONE_BASIC', 'SHOT_ZONE_AREA', 'SHOT_ZONE_RANGE', 'SHOT_DISTANCE', 'LOC_X', 'LOC_Y', 'SHOT_ATTEMPTED_FLAG', 'SHOT_MADE_FLAG', 'GAME_DATE', 'HTM', 'VTM']\n"
     ]
    }
   ],
   "source": [
    "headers = shot_json_loaded['resultSets'][0]['headers']\n",
    "rows = shot_json_loaded['resultSets'][0]['rowSet']\n",
    "print(headers)"
   ]
  },
  {
   "cell_type": "code",
   "execution_count": 122,
   "metadata": {},
   "outputs": [
    {
     "data": {
      "text/html": [
       "<div>\n",
       "<style scoped>\n",
       "    .dataframe tbody tr th:only-of-type {\n",
       "        vertical-align: middle;\n",
       "    }\n",
       "\n",
       "    .dataframe tbody tr th {\n",
       "        vertical-align: top;\n",
       "    }\n",
       "\n",
       "    .dataframe thead th {\n",
       "        text-align: right;\n",
       "    }\n",
       "</style>\n",
       "<table border=\"1\" class=\"dataframe\">\n",
       "  <thead>\n",
       "    <tr style=\"text-align: right;\">\n",
       "      <th></th>\n",
       "      <th>GRID_TYPE</th>\n",
       "      <th>GAME_ID</th>\n",
       "      <th>GAME_EVENT_ID</th>\n",
       "      <th>PLAYER_ID</th>\n",
       "      <th>PLAYER_NAME</th>\n",
       "      <th>TEAM_ID</th>\n",
       "      <th>TEAM_NAME</th>\n",
       "      <th>PERIOD</th>\n",
       "      <th>MINUTES_REMAINING</th>\n",
       "      <th>SECONDS_REMAINING</th>\n",
       "      <th>...</th>\n",
       "      <th>SHOT_ZONE_AREA</th>\n",
       "      <th>SHOT_ZONE_RANGE</th>\n",
       "      <th>SHOT_DISTANCE</th>\n",
       "      <th>LOC_X</th>\n",
       "      <th>LOC_Y</th>\n",
       "      <th>SHOT_ATTEMPTED_FLAG</th>\n",
       "      <th>SHOT_MADE_FLAG</th>\n",
       "      <th>GAME_DATE</th>\n",
       "      <th>HTM</th>\n",
       "      <th>VTM</th>\n",
       "    </tr>\n",
       "  </thead>\n",
       "  <tbody>\n",
       "    <tr>\n",
       "      <th>0</th>\n",
       "      <td>Shot Chart Detail</td>\n",
       "      <td>0022100009</td>\n",
       "      <td>7</td>\n",
       "      <td>203954</td>\n",
       "      <td>Joel Embiid</td>\n",
       "      <td>1610612755</td>\n",
       "      <td>Philadelphia 76ers</td>\n",
       "      <td>1</td>\n",
       "      <td>11</td>\n",
       "      <td>42</td>\n",
       "      <td>...</td>\n",
       "      <td>Center(C)</td>\n",
       "      <td>8-16 ft.</td>\n",
       "      <td>15</td>\n",
       "      <td>12</td>\n",
       "      <td>155</td>\n",
       "      <td>1</td>\n",
       "      <td>1</td>\n",
       "      <td>20211020</td>\n",
       "      <td>NOP</td>\n",
       "      <td>PHI</td>\n",
       "    </tr>\n",
       "    <tr>\n",
       "      <th>1</th>\n",
       "      <td>Shot Chart Detail</td>\n",
       "      <td>0022100009</td>\n",
       "      <td>24</td>\n",
       "      <td>203954</td>\n",
       "      <td>Joel Embiid</td>\n",
       "      <td>1610612755</td>\n",
       "      <td>Philadelphia 76ers</td>\n",
       "      <td>1</td>\n",
       "      <td>9</td>\n",
       "      <td>41</td>\n",
       "      <td>...</td>\n",
       "      <td>Center(C)</td>\n",
       "      <td>24+ ft.</td>\n",
       "      <td>25</td>\n",
       "      <td>1</td>\n",
       "      <td>255</td>\n",
       "      <td>1</td>\n",
       "      <td>1</td>\n",
       "      <td>20211020</td>\n",
       "      <td>NOP</td>\n",
       "      <td>PHI</td>\n",
       "    </tr>\n",
       "    <tr>\n",
       "      <th>2</th>\n",
       "      <td>Shot Chart Detail</td>\n",
       "      <td>0022100009</td>\n",
       "      <td>41</td>\n",
       "      <td>203954</td>\n",
       "      <td>Joel Embiid</td>\n",
       "      <td>1610612755</td>\n",
       "      <td>Philadelphia 76ers</td>\n",
       "      <td>1</td>\n",
       "      <td>8</td>\n",
       "      <td>5</td>\n",
       "      <td>...</td>\n",
       "      <td>Right Side Center(RC)</td>\n",
       "      <td>24+ ft.</td>\n",
       "      <td>24</td>\n",
       "      <td>180</td>\n",
       "      <td>159</td>\n",
       "      <td>1</td>\n",
       "      <td>1</td>\n",
       "      <td>20211020</td>\n",
       "      <td>NOP</td>\n",
       "      <td>PHI</td>\n",
       "    </tr>\n",
       "    <tr>\n",
       "      <th>3</th>\n",
       "      <td>Shot Chart Detail</td>\n",
       "      <td>0022100009</td>\n",
       "      <td>43</td>\n",
       "      <td>203954</td>\n",
       "      <td>Joel Embiid</td>\n",
       "      <td>1610612755</td>\n",
       "      <td>Philadelphia 76ers</td>\n",
       "      <td>1</td>\n",
       "      <td>7</td>\n",
       "      <td>22</td>\n",
       "      <td>...</td>\n",
       "      <td>Center(C)</td>\n",
       "      <td>Less Than 8 ft.</td>\n",
       "      <td>2</td>\n",
       "      <td>22</td>\n",
       "      <td>8</td>\n",
       "      <td>1</td>\n",
       "      <td>1</td>\n",
       "      <td>20211020</td>\n",
       "      <td>NOP</td>\n",
       "      <td>PHI</td>\n",
       "    </tr>\n",
       "    <tr>\n",
       "      <th>4</th>\n",
       "      <td>Shot Chart Detail</td>\n",
       "      <td>0022100009</td>\n",
       "      <td>311</td>\n",
       "      <td>203954</td>\n",
       "      <td>Joel Embiid</td>\n",
       "      <td>1610612755</td>\n",
       "      <td>Philadelphia 76ers</td>\n",
       "      <td>2</td>\n",
       "      <td>0</td>\n",
       "      <td>39</td>\n",
       "      <td>...</td>\n",
       "      <td>Center(C)</td>\n",
       "      <td>Less Than 8 ft.</td>\n",
       "      <td>2</td>\n",
       "      <td>-5</td>\n",
       "      <td>22</td>\n",
       "      <td>1</td>\n",
       "      <td>1</td>\n",
       "      <td>20211020</td>\n",
       "      <td>NOP</td>\n",
       "      <td>PHI</td>\n",
       "    </tr>\n",
       "  </tbody>\n",
       "</table>\n",
       "<p>5 rows × 24 columns</p>\n",
       "</div>"
      ],
      "text/plain": [
       "           GRID_TYPE     GAME_ID  GAME_EVENT_ID  PLAYER_ID  PLAYER_NAME  \\\n",
       "0  Shot Chart Detail  0022100009              7     203954  Joel Embiid   \n",
       "1  Shot Chart Detail  0022100009             24     203954  Joel Embiid   \n",
       "2  Shot Chart Detail  0022100009             41     203954  Joel Embiid   \n",
       "3  Shot Chart Detail  0022100009             43     203954  Joel Embiid   \n",
       "4  Shot Chart Detail  0022100009            311     203954  Joel Embiid   \n",
       "\n",
       "      TEAM_ID           TEAM_NAME  PERIOD  MINUTES_REMAINING  \\\n",
       "0  1610612755  Philadelphia 76ers       1                 11   \n",
       "1  1610612755  Philadelphia 76ers       1                  9   \n",
       "2  1610612755  Philadelphia 76ers       1                  8   \n",
       "3  1610612755  Philadelphia 76ers       1                  7   \n",
       "4  1610612755  Philadelphia 76ers       2                  0   \n",
       "\n",
       "   SECONDS_REMAINING  ...         SHOT_ZONE_AREA  SHOT_ZONE_RANGE  \\\n",
       "0                 42  ...              Center(C)         8-16 ft.   \n",
       "1                 41  ...              Center(C)          24+ ft.   \n",
       "2                  5  ...  Right Side Center(RC)          24+ ft.   \n",
       "3                 22  ...              Center(C)  Less Than 8 ft.   \n",
       "4                 39  ...              Center(C)  Less Than 8 ft.   \n",
       "\n",
       "  SHOT_DISTANCE LOC_X LOC_Y SHOT_ATTEMPTED_FLAG  SHOT_MADE_FLAG  GAME_DATE  \\\n",
       "0            15    12   155                   1               1   20211020   \n",
       "1            25     1   255                   1               1   20211020   \n",
       "2            24   180   159                   1               1   20211020   \n",
       "3             2    22     8                   1               1   20211020   \n",
       "4             2    -5    22                   1               1   20211020   \n",
       "\n",
       "   HTM  VTM  \n",
       "0  NOP  PHI  \n",
       "1  NOP  PHI  \n",
       "2  NOP  PHI  \n",
       "3  NOP  PHI  \n",
       "4  NOP  PHI  \n",
       "\n",
       "[5 rows x 24 columns]"
      ]
     },
     "execution_count": 122,
     "metadata": {},
     "output_type": "execute_result"
    }
   ],
   "source": [
    "player_data = pd.DataFrame(rows, columns = headers)\n",
    "player_data.head()"
   ]
  },
  {
   "cell_type": "code",
   "execution_count": 129,
   "metadata": {},
   "outputs": [],
   "source": [
    "# Function to draw basketball court\n",
    "def create_court(ax, color):\n",
    "    ax.plot([-220, -220], [0, 140], linewidth=2, color=color)\n",
    "    ax.plot([220, 220], [0, 140], linewidth=2, color=color)\n",
    "    ax.add_artist(mpl.patches.Arc((0, 140), 440, 315, theta1=0, theta2=180, facecolor='none', edgecolor=color, lw=2))\n",
    "    ax.plot([-80, -80], [0, 190], linewidth=2, color=color)\n",
    "    ax.plot([80, 80], [0, 190], linewidth=2, color=color)\n",
    "    ax.plot([-60, -60], [0, 190], linewidth=2, color=color)\n",
    "    ax.plot([60, 60], [0, 190], linewidth=2, color=color)\n",
    "    ax.plot([-80, 80], [190, 190], linewidth=2, color=color)\n",
    "    ax.add_artist(mpl.patches.Circle((0, 190), 60, facecolor='none', edgecolor=color, lw=2))\n",
    "    # Rim\n",
    "    ax.add_artist(mpl.patches.Circle((0, 60), 15, facecolor='none', edgecolor=color, lw=2))\n",
    "\n",
    "    # Backboard\n",
    "    ax.plot([-30, 30], [40, 40], linewidth=2, color=color)\n",
    "    # Remove ticks\n",
    "    ax.set_xticks([])\n",
    "    ax.set_yticks([])\n",
    "\n",
    "    # Set axis limits\n",
    "    ax.set_xlim(-250, 250)\n",
    "    ax.set_ylim(0, 470)\n",
    "    \n",
    "    ax.text(0, 1.05, '{}\\n{} Regular Season'.format(player_name, season), transform=ax.transAxes, ha='left', va='baseline')\n",
    "\n",
    "    ax.hexbin(player_data['LOC_X'], player_data['LOC_Y'] + 60, gridsize=(30, 30), extent=(-300, 300, 0, 940), bins='log', cmap='Blues')"
   ]
  },
  {
   "cell_type": "code",
   "execution_count": 130,
   "metadata": {},
   "outputs": [
    {
     "data": {
      "image/png": "[encoded data removed]",
      "text/plain": [
       "<Figure size 288x270.72 with 1 Axes>"
      ]
     },
     "metadata": {},
     "output_type": "display_data"
    }
   ],
   "source": [
    "# General plot parameters\n",
    "mpl.rcParams['font.size'] = 18\n",
    "mpl.rcParams['axes.linewidth'] = 2\n",
    "\n",
    "# Draw basketball court\n",
    "fig = plt.figure(figsize=(4, 3.76))\n",
    "ax = fig.add_axes([0, 0, 1, 1])\n",
    "ax = create_court(ax, 'black')\n",
    "\n",
    "title = \"{}-{}\".format(player_name, season)    \n",
    "plt.savefig(title + '.jpg', dpi=1000)\n",
    "\n",
    "plt.show()"
   ]
  }
 ],
 "metadata": {
  "kernelspec": {
   "display_name": "Python 3",
   "language": "python",
   "name": "python3"
  },
  "language_info": {
   "codemirror_mode": {
    "name": "ipython",
    "version": 3
   },
   "file_extension": ".py",
   "mimetype": "text/x-python",
   "name": "python",
   "nbconvert_exporter": "python",
   "pygments_lexer": "ipython3",
   "version": "3.8.5"
  }
 },
 "nbformat": 4,
 "nbformat_minor": 4
}
